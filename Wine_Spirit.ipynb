{
 "cells": [
  {
   "cell_type": "markdown",
   "metadata": {},
   "source": [
    "# Wine Spirit\n",
    "\n",
    "Vous êtes Développeur IA indépendant chez un marchand de vins de renom qui dispose d’un site internet pour ses ventes. Votre rôle est d’accompagner votre client dans sa transformation digitale. En effet pour le moment plusieurs painpoint sont présents. Par exemple, l’ERP utilisé n’est pas connecté au site internet : l’analyse des ventes sur internet est impossible, les outils sont rudimentaires, ect..."
   ]
  },
  {
   "cell_type": "markdown",
   "metadata": {},
   "source": [
    "### Import\n",
    "\n",
    "Dans un premier temps j'importe les bibliothèques dont je vais avoir besoin (pandas, numpy).\n",
    "\n",
    "J'importe également les données dans des DataFrames.\n",
    "\n",
    "Je nettoie les doublons de la DataFrame 'df_web' et renome l'index 'sku' en 'id_web' pour facilité le merge futur."
   ]
  },
  {
   "cell_type": "code",
   "execution_count": 15,
   "metadata": {
    "scrolled": false
   },
   "outputs": [],
   "source": [
    "import pandas as pd\n",
    "import numpy as np\n",
    "import scipy.stats as stats\n",
    "import seaborn as sns\n",
    "import matplotlib.pyplot as plt\n",
    "\n",
    "from pandas_profiling import ProfileReport\n",
    "from sklearn.cluster import KMeans\n",
    "from scipy.cluster.vq import kmeans, vq, whiten\n",
    "\n",
    "%matplotlib inline\n",
    "\n",
    "df_erp = pd.read_excel(r'Ressources\\erp.xlsx')\n",
    "df_liaison = pd.read_excel(r'Ressources\\liaison.xlsx')\n",
    "df_web = pd.read_excel(r'Ressources\\web.xlsx')\n",
    "\n",
    "df_web = df_web.drop_duplicates()\n",
    "df_web.rename(columns={'sku': 'id_web'},inplace=True)"
   ]
  },
  {
   "cell_type": "markdown",
   "metadata": {},
   "source": [
    "### Merging\n",
    "\n",
    "Je joints les DataFrames importé précédemment en un seul pour facilité la visualisation des corrélations."
   ]
  },
  {
   "cell_type": "code",
   "execution_count": 2,
   "metadata": {
    "scrolled": true
   },
   "outputs": [],
   "source": [
    "df_liaison = df_liaison.dropna()\n",
    "df_merge = df_erp.merge(df_liaison)\n",
    "df_merge = df_merge.merge(df_web)"
   ]
  },
  {
   "cell_type": "markdown",
   "metadata": {},
   "source": [
    "### Analyse\n",
    "\n",
    "Avec un 'describe' on peut mettre en avant les colonnes vides (NaN) et les colonnes composé de valeur unique.\n",
    "\n",
    "J'ai aussi utilisé 'pandas profiling' pour extraire toutes les données au format HTML et avoir une visualisation rapide des données. Cela permet d'avoir un premier aperçu."
   ]
  },
  {
   "cell_type": "code",
   "execution_count": 3,
   "metadata": {
    "scrolled": false
   },
   "outputs": [
    {
     "name": "stdout",
     "output_type": "stream",
     "text": [
      "        product_id  onsale_web        price  stock_quantity  virtual  \\\n",
      "count  1428.000000      1428.0  1428.000000     1428.000000   1428.0   \n",
      "mean   5032.557423         1.0    32.493137       28.746499      0.0   \n",
      "std     790.233846         0.0    27.800779       47.995782      0.0   \n",
      "min    3847.000000         1.0     5.200000        0.000000      0.0   \n",
      "25%    4280.000000         1.0    14.100000        2.000000      0.0   \n",
      "50%    4796.000000         1.0    23.550000       12.000000      0.0   \n",
      "75%    5711.000000         1.0    42.200000       35.000000      0.0   \n",
      "max    7338.000000         1.0   225.000000      578.000000      0.0   \n",
      "\n",
      "       downloadable  rating_count  average_rating  total_sales  tax_class  \\\n",
      "count        1428.0        1428.0          1428.0  1428.000000        0.0   \n",
      "mean            0.0           0.0             0.0     4.012605        NaN   \n",
      "std             0.0           0.0             0.0     8.515198        NaN   \n",
      "min             0.0           0.0             0.0     0.000000        NaN   \n",
      "25%             0.0           0.0             0.0     0.000000        NaN   \n",
      "50%             0.0           0.0             0.0     1.000000        NaN   \n",
      "75%             0.0           0.0             0.0     4.000000        NaN   \n",
      "max             0.0           0.0             0.0    96.000000        NaN   \n",
      "\n",
      "       post_author  post_content  post_password  post_content_filtered  \\\n",
      "count  1428.000000           0.0            0.0                    0.0   \n",
      "mean      1.998599           NaN            NaN                    NaN   \n",
      "std       0.037411           NaN            NaN                    NaN   \n",
      "min       1.000000           NaN            NaN                    NaN   \n",
      "25%       2.000000           NaN            NaN                    NaN   \n",
      "50%       2.000000           NaN            NaN                    NaN   \n",
      "75%       2.000000           NaN            NaN                    NaN   \n",
      "max       2.000000           NaN            NaN                    NaN   \n",
      "\n",
      "       post_parent  menu_order  comment_count  \n",
      "count       1428.0      1428.0         1428.0  \n",
      "mean           0.0         0.0            0.0  \n",
      "std            0.0         0.0            0.0  \n",
      "min            0.0         0.0            0.0  \n",
      "25%            0.0         0.0            0.0  \n",
      "50%            0.0         0.0            0.0  \n",
      "75%            0.0         0.0            0.0  \n",
      "max            0.0         0.0            0.0  \n"
     ]
    },
    {
     "data": {
      "application/vnd.jupyter.widget-view+json": {
       "model_id": "1abaf484cc44422bbc8b44e1ad3d3483",
       "version_major": 2,
       "version_minor": 0
      },
      "text/plain": [
       "HBox(children=(HTML(value='Summarize dataset'), FloatProgress(value=0.0, max=45.0), HTML(value='')))"
      ]
     },
     "metadata": {},
     "output_type": "display_data"
    },
    {
     "name": "stdout",
     "output_type": "stream",
     "text": [
      "\n"
     ]
    },
    {
     "data": {
      "application/vnd.jupyter.widget-view+json": {
       "model_id": "8ce77c34c20a4c89b2945c4c7a91147e",
       "version_major": 2,
       "version_minor": 0
      },
      "text/plain": [
       "HBox(children=(HTML(value='Generate report structure'), FloatProgress(value=0.0, max=1.0), HTML(value='')))"
      ]
     },
     "metadata": {},
     "output_type": "display_data"
    },
    {
     "name": "stdout",
     "output_type": "stream",
     "text": [
      "\n"
     ]
    },
    {
     "data": {
      "application/vnd.jupyter.widget-view+json": {
       "model_id": "90042647e0274fbe89a5bd0f3ee4dd67",
       "version_major": 2,
       "version_minor": 0
      },
      "text/plain": [
       "HBox(children=(HTML(value='Render HTML'), FloatProgress(value=0.0, max=1.0), HTML(value='')))"
      ]
     },
     "metadata": {},
     "output_type": "display_data"
    },
    {
     "name": "stdout",
     "output_type": "stream",
     "text": [
      "\n"
     ]
    },
    {
     "data": {
      "application/vnd.jupyter.widget-view+json": {
       "model_id": "2358a465c1d74cf4bf7ad4e824d88d3c",
       "version_major": 2,
       "version_minor": 0
      },
      "text/plain": [
       "HBox(children=(HTML(value='Export report to file'), FloatProgress(value=0.0, max=1.0), HTML(value='')))"
      ]
     },
     "metadata": {},
     "output_type": "display_data"
    },
    {
     "name": "stdout",
     "output_type": "stream",
     "text": [
      "\n"
     ]
    }
   ],
   "source": [
    "print(df_merge.describe())\n",
    "html = ProfileReport(df_merge,\n",
    "                     title=\"Wine Spirit Report\",\n",
    "                     explorative=True,\n",
    "                     correlations={\"cramers\": {\"calculate\": False}})\n",
    "html.to_file(\"Wine_Spirit.html\")"
   ]
  },
  {
   "cell_type": "markdown",
   "metadata": {},
   "source": [
    "### Suppression \n",
    "\n",
    "Suite à l'analyse précédemment effectué je me permet de supprimer toutes les colonnes qui n'ont aucunes valeurs (NaN) et les colonnes qui ont une valeur unique.\n",
    "\n",
    "Je drop ensuite les lignes qui contiennent des valeurs nulles (NaN) qui ne pourront pas être utiliser."
   ]
  },
  {
   "cell_type": "code",
   "execution_count": 4,
   "metadata": {
    "scrolled": true
   },
   "outputs": [],
   "source": [
    "df_drop = df_merge.drop(columns=['post_content_filtered',\n",
    "                                 'post_password',\n",
    "                                 'tax_class',\n",
    "                                 'post_content',\n",
    "                                 'post_mime_type',\n",
    "                                 'id_web',\n",
    "                                 'virtual',\n",
    "                                 'downloadable',\n",
    "                                 'rating_count',\n",
    "                                 'average_rating',\n",
    "                                 'tax_status',\n",
    "                                 'post_status',\n",
    "                                 'comment_status',\n",
    "                                 'ping_status',\n",
    "                                 'post_parent',\n",
    "                                 'menu_order',\n",
    "                                 'post_type',\n",
    "                                 'comment_count'])\n",
    "df_drop = df_drop.dropna()"
   ]
  },
  {
   "cell_type": "code",
   "execution_count": 5,
   "metadata": {
    "scrolled": true
   },
   "outputs": [
    {
     "data": {
      "text/plain": [
       "product_id                    int64\n",
       "onsale_web                    int64\n",
       "price                       float64\n",
       "stock_quantity                int64\n",
       "stock_status                 object\n",
       "total_sales                 float64\n",
       "post_author                 float64\n",
       "post_date            datetime64[ns]\n",
       "post_date_gmt        datetime64[ns]\n",
       "post_title                   object\n",
       "post_excerpt                 object\n",
       "post_name                    object\n",
       "post_modified        datetime64[ns]\n",
       "post_modified_gmt    datetime64[ns]\n",
       "guid                         object\n",
       "dtype: object"
      ]
     },
     "execution_count": 5,
     "metadata": {},
     "output_type": "execute_result"
    }
   ],
   "source": [
    "df_drop.dtypes"
   ]
  },
  {
   "cell_type": "code",
   "execution_count": 6,
   "metadata": {
    "scrolled": true
   },
   "outputs": [
    {
     "name": "stdout",
     "output_type": "stream",
     "text": [
      "Le chiffre d'affaire par produit est : \n",
      "0       145.2\n",
      "2         0.0\n",
      "4         0.0\n",
      "6        42.3\n",
      "8         0.0\n",
      "        ...  \n",
      "1418     42.0\n",
      "1420      0.0\n",
      "1422      0.0\n",
      "1424      0.0\n",
      "1426      0.0\n",
      "Name: chiffre_affaire, Length: 714, dtype: float64\n",
      "le chiffre d'affaire total est : 70568.6 €\n"
     ]
    }
   ],
   "source": [
    "df_drop['chiffre_affaire'] = df_drop['total_sales'] * df_drop['price']\n",
    "print(\"Le chiffre d'affaire par produit est : \")\n",
    "print(df_drop['chiffre_affaire'])\n",
    "# print(df_drop['chiffre_affaire'][df_drop.chiffre_affaire != 0])\n",
    "chiffre = sum(df_drop['chiffre_affaire'])\n",
    "print(\"le chiffre d'affaire total est : \" \n",
    "      + str(chiffre) + \" €\")"
   ]
  },
  {
   "cell_type": "markdown",
   "metadata": {},
   "source": [
    "### Outliers\n",
    "\n",
    "Maintenant nous allons nous pencher sur les outliers en utilisant les 4 méthodes proposés par l'énoncé."
   ]
  },
  {
   "cell_type": "markdown",
   "metadata": {},
   "source": [
    "##### Méthode Z Score :"
   ]
  },
  {
   "cell_type": "code",
   "execution_count": 7,
   "metadata": {
    "scrolled": false
   },
   "outputs": [
    {
     "name": "stdout",
     "output_type": "stream",
     "text": [
      "Par la méthode Z_score on trouve 30 outliers.\n",
      "Les outliers sont : \n",
      "126     100.0\n",
      "130      88.4\n",
      "398     225.0\n",
      "402     126.5\n",
      "436     176.0\n",
      "438     108.5\n",
      "442     157.0\n",
      "444     104.0\n",
      "454     109.6\n",
      "760     102.3\n",
      "762     137.0\n",
      "852     217.5\n",
      "862     105.0\n",
      "864     105.0\n",
      "874     112.0\n",
      "1004     92.0\n",
      "1022    124.8\n",
      "1106    175.0\n",
      "1174    191.3\n",
      "1204     93.0\n",
      "1206    122.0\n",
      "1208    114.0\n",
      "1284    135.0\n",
      "1294    105.6\n",
      "1296    116.4\n",
      "1306    115.0\n",
      "1308    121.0\n",
      "1310     99.0\n",
      "1312    115.0\n",
      "1314    121.0\n",
      "Name: price, dtype: float64\n"
     ]
    }
   ],
   "source": [
    "z_score = stats.zscore(df_drop['price'])\n",
    "df_drop['outliers'] = (z_score > 2)\n",
    "print(\"Par la méthode Z_score on trouve \" \n",
    "      + str(len(z_score[z_score>2])) \n",
    "      + \" outliers.\")\n",
    "print('Les outliers sont : ')\n",
    "print(df_drop['price'][df_drop['outliers']==True])"
   ]
  },
  {
   "cell_type": "markdown",
   "metadata": {},
   "source": [
    "##### Méthode des interquartiles : "
   ]
  },
  {
   "cell_type": "code",
   "execution_count": 8,
   "metadata": {},
   "outputs": [
    {
     "name": "stdout",
     "output_type": "stream",
     "text": [
      "L'interquantiles est égal à 28.075000000000003.\n",
      "Par la méthode interquartiles on trouve 32 outliers.\n",
      "Les outliers sont :\n",
      "126     100.0\n",
      "130      88.4\n",
      "398     225.0\n",
      "402     126.5\n",
      "410      85.6\n",
      "436     176.0\n",
      "438     108.5\n",
      "442     157.0\n",
      "444     104.0\n",
      "454     109.6\n",
      "760     102.3\n",
      "762     137.0\n",
      "852     217.5\n",
      "862     105.0\n",
      "864     105.0\n",
      "874     112.0\n",
      "876      86.8\n",
      "1004     92.0\n",
      "1022    124.8\n",
      "1106    175.0\n",
      "1174    191.3\n",
      "1204     93.0\n",
      "1206    122.0\n",
      "1208    114.0\n",
      "1284    135.0\n",
      "1294    105.6\n",
      "1296    116.4\n",
      "1306    115.0\n",
      "1308    121.0\n",
      "1310     99.0\n",
      "1312    115.0\n",
      "1314    121.0\n",
      "Name: price, dtype: float64\n"
     ]
    }
   ],
   "source": [
    "q3, q1 = np.percentile(df_drop['price'], [75 ,25])\n",
    "iqr = q3 - q1\n",
    "outliers = df_drop['price'][(df_drop['price'] < q1 - 1.5 * iqr)\n",
    "                            |(df_drop['price'] > q3 + 1.5 * iqr)]\n",
    "print(\"L'interquantiles est égal à \" \n",
    "      + str(iqr) \n",
    "      + \".\")\n",
    "print(\"Par la méthode interquartiles on trouve \" \n",
    "      + str(len(outliers)) \n",
    "      + \" outliers.\")\n",
    "print(\"Les outliers sont :\")\n",
    "print(outliers)"
   ]
  },
  {
   "cell_type": "markdown",
   "metadata": {},
   "source": [
    "##### Méthode visuelle par Boxplot :"
   ]
  },
  {
   "cell_type": "code",
   "execution_count": 9,
   "metadata": {
    "scrolled": true
   },
   "outputs": [
    {
     "data": {
      "image/png": "[encoded data removed]",
      "text/plain": [
       "<Figure size 432x288 with 1 Axes>"
      ]
     },
     "metadata": {
      "needs_background": "light"
     },
     "output_type": "display_data"
    }
   ],
   "source": [
    "plt.boxplot(df_drop['price'], '0')\n",
    "plt.ylabel('Prix')\n",
    "plt.title(\"Boxplot du prix\", loc='center')\n",
    "plt.show()"
   ]
  },
  {
   "cell_type": "markdown",
   "metadata": {},
   "source": [
    "##### Méthode visuelle par Nuage de Points : "
   ]
  },
  {
   "cell_type": "code",
   "execution_count": 10,
   "metadata": {
    "scrolled": true
   },
   "outputs": [
    {
     "data": {
      "text/plain": [
       "<AxesSubplot:xlabel='chiffre_affaire', ylabel='price'>"
      ]
     },
     "execution_count": 10,
     "metadata": {},
     "output_type": "execute_result"
    },
    {
     "data": {
      "image/png": "[encoded data removed]",
      "text/plain": [
       "<Figure size 432x288 with 1 Axes>"
      ]
     },
     "metadata": {
      "needs_background": "light"
     },
     "output_type": "display_data"
    }
   ],
   "source": [
    "sns.scatterplot(data=df_drop, \n",
    "                x=\"chiffre_affaire\", \n",
    "                y=\"price\", \n",
    "                hue=\"outliers\", \n",
    "                style=\"outliers\")"
   ]
  },
  {
   "cell_type": "markdown",
   "metadata": {},
   "source": [
    "### K-Means"
   ]
  },
  {
   "cell_type": "markdown",
   "metadata": {},
   "source": [
    "##### Détermination du nombre de clusters :\n",
    "\n",
    "J'utilise ici la méthode Elbow pour déterminer le nombre de clusters."
   ]
  },
  {
   "cell_type": "code",
   "execution_count": 11,
   "metadata": {},
   "outputs": [
    {
     "data": {
      "image/png": "[encoded data removed]",
      "text/plain": [
       "<Figure size 432x288 with 1 Axes>"
      ]
     },
     "metadata": {
      "needs_background": "light"
     },
     "output_type": "display_data"
    }
   ],
   "source": [
    "wcss = []\n",
    "for i in range(1, 11):\n",
    "  kmeans=KMeans(n_clusters=i, \n",
    "                init='k-means++', \n",
    "                max_iter= 300, \n",
    "                n_init= 10, \n",
    "                random_state= 0)\n",
    "  kmeans.fit(df_drop[['price','chiffre_affaire']])\n",
    "  wcss.append(kmeans.inertia_)\n",
    "plt.plot(range(1, 11),wcss)\n",
    "plt.title('Méthode Elbow')\n",
    "plt.xlabel('Nombre de cluster')\n",
    "plt.ylabel('Moyenne des distance au Centroid (WCSS)')  \n",
    "plt.show()"
   ]
  },
  {
   "cell_type": "markdown",
   "metadata": {},
   "source": [
    "Il en ressort que le nombre de clusters optimal est 4."
   ]
  },
  {
   "cell_type": "markdown",
   "metadata": {},
   "source": [
    "##### Visualisation des clusters :\n",
    "\n",
    "Comme précédemment vu, l'affichage se fera sur 4 clusters."
   ]
  },
  {
   "cell_type": "code",
   "execution_count": 16,
   "metadata": {},
   "outputs": [
    {
     "data": {
      "text/plain": [
       "Text(0, 0.5, 'Prix')"
      ]
     },
     "execution_count": 16,
     "metadata": {},
     "output_type": "execute_result"
    },
    {
     "data": {
      "image/png": "[encoded data removed]",
      "text/plain": [
       "<Figure size 432x288 with 1 Axes>"
      ]
     },
     "metadata": {
      "needs_background": "light"
     },
     "output_type": "display_data"
    }
   ],
   "source": [
    "df_drop['x_scaled'] = whiten(df_drop['chiffre_affaire'])\n",
    "df_drop['y_scaled'] = whiten(df_drop['price'])\n",
    "\n",
    "cluster_centers, distortions = kmeans(df_drop[['x_scaled', 'y_scaled']], 4)\n",
    "df_drop['cluster_labels'], distortion_list = vq(df_drop[['x_scaled', \n",
    "                                                         'y_scaled']], \n",
    "                                                cluster_centers)\n",
    "\n",
    "sns.scatterplot(x='x_scaled', \n",
    "                y='y_scaled', \n",
    "                hue='cluster_labels', \n",
    "                data=df_drop)\n",
    "plt.title(\"Visualisation des clusters\")\n",
    "plt.xlabel(\"Chiffre d'affaire\")\n",
    "plt.ylabel(\"Prix\")"
   ]
  }
 ],
 "metadata": {
  "kernelspec": {
   "display_name": "Python 3",
   "language": "python",
   "name": "python3"
  },
  "language_info": {
   "codemirror_mode": {
    "name": "ipython",
    "version": 3
   },
   "file_extension": ".py",
   "mimetype": "text/x-python",
   "name": "python",
   "nbconvert_exporter": "python",
   "pygments_lexer": "ipython3",
   "version": "3.8.5"
  }
 },
 "nbformat": 4,
 "nbformat_minor": 4
}
